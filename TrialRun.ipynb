{
 "cells": [
  {
   "cell_type": "markdown",
   "id": "c0c188f0-4474-4cd3-a531-d560325c2f34",
   "metadata": {},
   "source": [
    "BIRS Python/Jupyter Notebook notes\n"
   ]
  },
  {
   "cell_type": "markdown",
   "id": "dce61732-024e-4a21-a073-b0687b3da8d3",
   "metadata": {},
   "source": [
    "Adding some stuff to see if GitHub's updating"
   ]
  },
  {
   "cell_type": "markdown",
   "id": "e24b4c10-ee75-4ca4-a07e-8188bee8dd42",
   "metadata": {},
   "source": [
    "More changes"
   ]
  },
  {
   "cell_type": "code",
   "execution_count": 1,
   "id": "d8fc99b6-fbb9-4808-a8f9-c303199d5f4b",
   "metadata": {},
   "outputs": [],
   "source": [
    "import numpy as np\n",
    "import scipy.linalg as la"
   ]
  },
  {
   "cell_type": "code",
   "execution_count": 2,
   "id": "7ea9f4a2-44a6-4af4-b9c0-5d810d1658ab",
   "metadata": {},
   "outputs": [
    {
     "data": {
      "text/plain": [
       "array([[ 2., -1.,  0.,  0.,  0.],\n",
       "       [-1.,  2., -1.,  0.,  0.],\n",
       "       [ 0., -1.,  2., -1.,  0.],\n",
       "       [ 0.,  0., -1.,  2., -1.],\n",
       "       [ 0.,  0.,  0., -1.,  2.]])"
      ]
     },
     "execution_count": 2,
     "metadata": {},
     "output_type": "execute_result"
    }
   ],
   "source": [
    "N=5\n",
    "A = 2*np.eye(N) - np.diag(np.ones(N-1),1)-np.diag(np.ones(N-1),-1)\n",
    "A"
   ]
  },
  {
   "cell_type": "markdown",
   "id": "928f401c-df8c-4953-b824-569bec40e1f4",
   "metadata": {},
   "source": [
    "blah blah"
   ]
  },
  {
   "cell_type": "markdown",
   "id": "e43961df-2b7b-4600-8534-3f2388aa3936",
   "metadata": {},
   "source": [
    "more blah blah"
   ]
  },
  {
   "cell_type": "code",
   "execution_count": 3,
   "id": "bde6430b-24a2-40b2-8001-1d664bf1c455",
   "metadata": {},
   "outputs": [],
   "source": [
    "B = np.array([[1,1],[1,1]])"
   ]
  },
  {
   "cell_type": "code",
   "execution_count": 4,
   "id": "b5b5da6f-1819-41c1-a382-1d6a43bf37ca",
   "metadata": {},
   "outputs": [
    {
     "data": {
      "text/plain": [
       "array([[1, 1],\n",
       "       [1, 1]])"
      ]
     },
     "execution_count": 4,
     "metadata": {},
     "output_type": "execute_result"
    }
   ],
   "source": [
    "B"
   ]
  },
  {
   "cell_type": "code",
   "execution_count": 5,
   "id": "8f8d2e98-4af4-41c4-a453-dda2eec0cb69",
   "metadata": {},
   "outputs": [
    {
     "data": {
      "text/plain": [
       "array([[1, 1],\n",
       "       [1, 1]])"
      ]
     },
     "execution_count": 5,
     "metadata": {},
     "output_type": "execute_result"
    }
   ],
   "source": [
    "B*B"
   ]
  },
  {
   "cell_type": "markdown",
   "id": "ecb9589b-4413-4c32-a4fb-79f0c9a30ba9",
   "metadata": {},
   "source": [
    "Link for students to click:"
   ]
  },
  {
   "cell_type": "markdown",
   "id": "c2a3eff0-46b6-4aae-b134-152b36f3f9ba",
   "metadata": {},
   "source": [
    "https://yorku.syzygy.ca/jupyter/hub/user-redirect/git-pull?repo=https://github.com/psargent19/BIRS"
   ]
  },
  {
   "cell_type": "code",
   "execution_count": 6,
   "id": "1c94a3a8-3729-4bca-8748-590cad6c6cd4",
   "metadata": {},
   "outputs": [
    {
     "ename": "ModuleNotFoundError",
     "evalue": "No module named 'nbgrader'",
     "output_type": "error",
     "traceback": [
      "\u001b[0;31m---------------------------------------------------------------------------\u001b[0m",
      "\u001b[0;31mModuleNotFoundError\u001b[0m                       Traceback (most recent call last)",
      "\u001b[0;32m/tmp/ipykernel_85/2031719719.py\u001b[0m in \u001b[0;36m<module>\u001b[0;34m\u001b[0m\n\u001b[0;32m----> 1\u001b[0;31m \u001b[0;32mimport\u001b[0m \u001b[0mnbgrader\u001b[0m\u001b[0;34m\u001b[0m\u001b[0;34m\u001b[0m\u001b[0m\n\u001b[0m",
      "\u001b[0;31mModuleNotFoundError\u001b[0m: No module named 'nbgrader'"
     ]
    }
   ],
   "source": [
    "import nbgrader"
   ]
  },
  {
   "cell_type": "code",
   "execution_count": 7,
   "id": "1d26a93f",
   "metadata": {},
   "outputs": [
    {
     "name": "stdout",
     "output_type": "stream",
     "text": [
      "Collecting nbgrader\n",
      "  Using cached nbgrader-0.7.1-py3-none-any.whl\n",
      "Requirement already satisfied: notebook<7,>=6.4 in /opt/conda/lib/python3.9/site-packages (from nbgrader) (6.4.6)\n",
      "Requirement already satisfied: ipywidgets>=7.6 in /opt/conda/lib/python3.9/site-packages (from nbgrader) (7.6.5)\n",
      "Requirement already satisfied: jupyter-client<8 in /opt/conda/lib/python3.9/site-packages (from nbgrader) (7.1.0)\n",
      "Collecting nbclient>=0.6.1\n",
      "  Using cached nbclient-0.6.6-py3-none-any.whl (71 kB)\n",
      "Requirement already satisfied: MarkupSafe<2.2.0 in /opt/conda/lib/python3.9/site-packages (from nbgrader) (2.0.1)\n",
      "Collecting qtconsole>=5.2\n",
      "  Using cached qtconsole-5.3.1-py3-none-any.whl (120 kB)\n",
      "Requirement already satisfied: python-dateutil>=2.8 in /opt/conda/lib/python3.9/site-packages (from nbgrader) (2.8.0)\n",
      "Requirement already satisfied: jupyter-server>=1.12 in /opt/conda/lib/python3.9/site-packages (from nbgrader) (1.13.1)\n",
      "Requirement already satisfied: nbconvert>=6 in /opt/conda/lib/python3.9/site-packages (from nbgrader) (6.4.0)\n",
      "Collecting rapidfuzz>=1.8\n",
      "  Downloading rapidfuzz-2.6.0-cp39-cp39-manylinux_2_17_x86_64.manylinux2014_x86_64.whl (2.2 MB)\n",
      "     |████████████████████████████████| 2.2 MB 14.1 MB/s            �██████▋        | 1.6 MB 14.1 MB/s eta 0:00:01\n",
      "\u001b[?25hRequirement already satisfied: Jinja2>=3 in /opt/conda/lib/python3.9/site-packages (from nbgrader) (3.0.3)\n",
      "Requirement already satisfied: traitlets<5.2.0 in /opt/conda/lib/python3.9/site-packages (from nbgrader) (5.1.1)\n",
      "Requirement already satisfied: requests>=2.26 in /opt/conda/lib/python3.9/site-packages (from nbgrader) (2.26.0)\n",
      "Requirement already satisfied: alembic>=1.7 in /opt/conda/lib/python3.9/site-packages (from nbgrader) (1.7.5)\n",
      "Requirement already satisfied: jsonschema>=3 in /opt/conda/lib/python3.9/site-packages (from nbgrader) (4.3.3)\n",
      "Requirement already satisfied: sqlalchemy<2,>=1.4 in /opt/conda/lib/python3.9/site-packages (from nbgrader) (1.4.29)\n",
      "Requirement already satisfied: Mako in /opt/conda/lib/python3.9/site-packages (from alembic>=1.7->nbgrader) (1.1.6)\n",
      "Requirement already satisfied: ipython-genutils~=0.2.0 in /opt/conda/lib/python3.9/site-packages (from ipywidgets>=7.6->nbgrader) (0.2.0)\n",
      "Requirement already satisfied: ipykernel>=4.5.1 in /opt/conda/lib/python3.9/site-packages (from ipywidgets>=7.6->nbgrader) (6.6.1)\n",
      "Requirement already satisfied: jupyterlab-widgets>=1.0.0 in /opt/conda/lib/python3.9/site-packages (from ipywidgets>=7.6->nbgrader) (1.0.2)\n",
      "Requirement already satisfied: widgetsnbextension~=3.5.0 in /opt/conda/lib/python3.9/site-packages (from ipywidgets>=7.6->nbgrader) (3.5.2)\n",
      "Requirement already satisfied: nbformat>=4.2.0 in /opt/conda/lib/python3.9/site-packages (from ipywidgets>=7.6->nbgrader) (5.1.3)\n",
      "Requirement already satisfied: ipython>=4.0.0 in /opt/conda/lib/python3.9/site-packages (from ipywidgets>=7.6->nbgrader) (7.31.0)\n",
      "Requirement already satisfied: attrs>=17.4.0 in /opt/conda/lib/python3.9/site-packages (from jsonschema>=3->nbgrader) (21.4.0)\n",
      "Requirement already satisfied: pyrsistent!=0.17.0,!=0.17.1,!=0.17.2,>=0.14.0 in /opt/conda/lib/python3.9/site-packages (from jsonschema>=3->nbgrader) (0.18.0)\n",
      "Requirement already satisfied: entrypoints in /opt/conda/lib/python3.9/site-packages (from jupyter-client<8->nbgrader) (0.3)\n",
      "Requirement already satisfied: pyzmq>=13 in /opt/conda/lib/python3.9/site-packages (from jupyter-client<8->nbgrader) (22.3.0)\n",
      "Requirement already satisfied: nest-asyncio>=1.5 in /opt/conda/lib/python3.9/site-packages (from jupyter-client<8->nbgrader) (1.5.4)\n",
      "Requirement already satisfied: tornado>=4.1 in /opt/conda/lib/python3.9/site-packages (from jupyter-client<8->nbgrader) (6.1)\n",
      "Requirement already satisfied: jupyter-core>=4.6.0 in /opt/conda/lib/python3.9/site-packages (from jupyter-client<8->nbgrader) (4.9.1)\n",
      "Requirement already satisfied: terminado>=0.8.3 in /opt/conda/lib/python3.9/site-packages (from jupyter-server>=1.12->nbgrader) (0.12.1)\n",
      "Requirement already satisfied: prometheus-client in /opt/conda/lib/python3.9/site-packages (from jupyter-server>=1.12->nbgrader) (0.12.0)\n",
      "Requirement already satisfied: anyio<4,>=3.1.0 in /opt/conda/lib/python3.9/site-packages (from jupyter-server>=1.12->nbgrader) (3.4.0)\n",
      "Requirement already satisfied: argon2-cffi in /opt/conda/lib/python3.9/site-packages (from jupyter-server>=1.12->nbgrader) (21.3.0)\n",
      "Requirement already satisfied: Send2Trash in /opt/conda/lib/python3.9/site-packages (from jupyter-server>=1.12->nbgrader) (1.8.0)\n",
      "Requirement already satisfied: websocket-client in /opt/conda/lib/python3.9/site-packages (from jupyter-server>=1.12->nbgrader) (1.2.3)\n",
      "Collecting nbclient>=0.6.1\n",
      "  Using cached nbclient-0.6.5-py3-none-any.whl (71 kB)\n",
      "  Using cached nbclient-0.6.4-py3-none-any.whl (71 kB)\n",
      "  Using cached nbclient-0.6.3-py3-none-any.whl (71 kB)\n",
      "Requirement already satisfied: mistune<2,>=0.8.1 in /opt/conda/lib/python3.9/site-packages (from nbconvert>=6->nbgrader) (0.8.4)\n",
      "Requirement already satisfied: bleach in /opt/conda/lib/python3.9/site-packages (from nbconvert>=6->nbgrader) (4.1.0)\n",
      "Collecting nbconvert>=6\n",
      "  Using cached nbconvert-6.5.3-py3-none-any.whl (563 kB)\n",
      "Requirement already satisfied: jupyterlab-pygments in /opt/conda/lib/python3.9/site-packages (from nbconvert>=6->nbgrader) (0.1.2)\n",
      "Requirement already satisfied: packaging in /opt/conda/lib/python3.9/site-packages (from nbconvert>=6->nbgrader) (21.3)\n",
      "Requirement already satisfied: defusedxml in /opt/conda/lib/python3.9/site-packages (from nbconvert>=6->nbgrader) (0.7.1)\n",
      "Requirement already satisfied: pandocfilters>=1.4.1 in /opt/conda/lib/python3.9/site-packages (from nbconvert>=6->nbgrader) (1.5.0)\n",
      "Requirement already satisfied: lxml in /opt/conda/lib/python3.9/site-packages (from nbconvert>=6->nbgrader) (4.7.1)\n",
      "Collecting tinycss2\n",
      "  Using cached tinycss2-1.1.1-py3-none-any.whl (21 kB)\n",
      "Requirement already satisfied: pygments>=2.4.1 in /opt/conda/lib/python3.9/site-packages (from nbconvert>=6->nbgrader) (2.11.1)\n",
      "Requirement already satisfied: beautifulsoup4 in /opt/conda/lib/python3.9/site-packages (from nbconvert>=6->nbgrader) (4.10.0)\n",
      "Requirement already satisfied: six>=1.5 in /opt/conda/lib/python3.9/site-packages (from python-dateutil>=2.8->nbgrader) (1.16.0)\n",
      "Collecting qtpy>=2.0.1\n",
      "  Using cached QtPy-2.2.0-py3-none-any.whl (82 kB)\n",
      "Collecting jarowinkler<2.0.0,>=1.2.0\n",
      "  Using cached jarowinkler-1.2.1-cp39-cp39-manylinux_2_17_x86_64.manylinux2014_x86_64.whl (105 kB)\n",
      "Requirement already satisfied: charset-normalizer~=2.0.0 in /opt/conda/lib/python3.9/site-packages (from requests>=2.26->nbgrader) (2.0.9)\n",
      "Requirement already satisfied: urllib3<1.27,>=1.21.1 in /opt/conda/lib/python3.9/site-packages (from requests>=2.26->nbgrader) (1.25.11)\n",
      "Requirement already satisfied: idna<4,>=2.5 in /opt/conda/lib/python3.9/site-packages (from requests>=2.26->nbgrader) (3.1)\n",
      "Requirement already satisfied: certifi>=2017.4.17 in /opt/conda/lib/python3.9/site-packages (from requests>=2.26->nbgrader) (2021.10.8)\n",
      "Requirement already satisfied: greenlet!=0.4.17 in /opt/conda/lib/python3.9/site-packages (from sqlalchemy<2,>=1.4->nbgrader) (1.1.2)\n",
      "Requirement already satisfied: sniffio>=1.1 in /opt/conda/lib/python3.9/site-packages (from anyio<4,>=3.1.0->jupyter-server>=1.12->nbgrader) (1.2.0)\n",
      "Requirement already satisfied: matplotlib-inline<0.2.0,>=0.1.0 in /opt/conda/lib/python3.9/site-packages (from ipykernel>=4.5.1->ipywidgets>=7.6->nbgrader) (0.1.3)\n",
      "Requirement already satisfied: debugpy<2.0,>=1.0.0 in /opt/conda/lib/python3.9/site-packages (from ipykernel>=4.5.1->ipywidgets>=7.6->nbgrader) (1.5.1)\n",
      "Requirement already satisfied: jedi>=0.16 in /opt/conda/lib/python3.9/site-packages (from ipython>=4.0.0->ipywidgets>=7.6->nbgrader) (0.18.1)\n",
      "Requirement already satisfied: backcall in /opt/conda/lib/python3.9/site-packages (from ipython>=4.0.0->ipywidgets>=7.6->nbgrader) (0.2.0)\n",
      "Requirement already satisfied: pexpect>4.3 in /opt/conda/lib/python3.9/site-packages (from ipython>=4.0.0->ipywidgets>=7.6->nbgrader) (4.8.0)\n",
      "Requirement already satisfied: pickleshare in /opt/conda/lib/python3.9/site-packages (from ipython>=4.0.0->ipywidgets>=7.6->nbgrader) (0.7.5)\n",
      "Requirement already satisfied: decorator in /opt/conda/lib/python3.9/site-packages (from ipython>=4.0.0->ipywidgets>=7.6->nbgrader) (5.1.0)\n",
      "Requirement already satisfied: setuptools>=18.5 in /opt/conda/lib/python3.9/site-packages (from ipython>=4.0.0->ipywidgets>=7.6->nbgrader) (60.2.0)\n",
      "Requirement already satisfied: prompt-toolkit!=3.0.0,!=3.0.1,<3.1.0,>=2.0.0 in /opt/conda/lib/python3.9/site-packages (from ipython>=4.0.0->ipywidgets>=7.6->nbgrader) (3.0.24)\n",
      "Requirement already satisfied: ptyprocess in /opt/conda/lib/python3.9/site-packages (from terminado>=0.8.3->jupyter-server>=1.12->nbgrader) (0.7.0)\n",
      "Requirement already satisfied: argon2-cffi-bindings in /opt/conda/lib/python3.9/site-packages (from argon2-cffi->jupyter-server>=1.12->nbgrader) (21.2.0)\n",
      "Requirement already satisfied: soupsieve>1.2 in /opt/conda/lib/python3.9/site-packages (from beautifulsoup4->nbconvert>=6->nbgrader) (2.3.1)\n",
      "Requirement already satisfied: webencodings in /opt/conda/lib/python3.9/site-packages (from bleach->nbconvert>=6->nbgrader) (0.5.1)\n",
      "Requirement already satisfied: pyparsing!=3.0.5,>=2.0.2 in /opt/conda/lib/python3.9/site-packages (from packaging->nbconvert>=6->nbgrader) (3.0.6)\n",
      "Requirement already satisfied: parso<0.9.0,>=0.8.0 in /opt/conda/lib/python3.9/site-packages (from jedi>=0.16->ipython>=4.0.0->ipywidgets>=7.6->nbgrader) (0.8.3)\n",
      "Requirement already satisfied: wcwidth in /opt/conda/lib/python3.9/site-packages (from prompt-toolkit!=3.0.0,!=3.0.1,<3.1.0,>=2.0.0->ipython>=4.0.0->ipywidgets>=7.6->nbgrader) (0.2.5)\n",
      "Requirement already satisfied: cffi>=1.0.1 in /opt/conda/lib/python3.9/site-packages (from argon2-cffi-bindings->argon2-cffi->jupyter-server>=1.12->nbgrader) (1.15.0)\n",
      "Requirement already satisfied: pycparser in /opt/conda/lib/python3.9/site-packages (from cffi>=1.0.1->argon2-cffi-bindings->argon2-cffi->jupyter-server>=1.12->nbgrader) (2.21)\n",
      "Installing collected packages: tinycss2, nbclient, nbconvert, qtpy, jarowinkler, rapidfuzz, qtconsole, nbgrader\n",
      "  Attempting uninstall: nbclient\n",
      "    Found existing installation: nbclient 0.5.9\n",
      "    Uninstalling nbclient-0.5.9:\n",
      "      Successfully uninstalled nbclient-0.5.9\n",
      "  Attempting uninstall: nbconvert\n",
      "    Found existing installation: nbconvert 6.4.0\n",
      "    Uninstalling nbconvert-6.4.0:\n",
      "      Successfully uninstalled nbconvert-6.4.0\n",
      "Successfully installed jarowinkler-1.2.1 nbclient-0.6.3 nbconvert-6.5.3 nbgrader-0.7.1 qtconsole-5.3.1 qtpy-2.2.0 rapidfuzz-2.6.0 tinycss2-1.1.1\n"
     ]
    }
   ],
   "source": [
    "!pip install nbgrader\n"
   ]
  },
  {
   "cell_type": "code",
   "execution_count": 8,
   "id": "51a8b2d5",
   "metadata": {},
   "outputs": [],
   "source": [
    "import nbgrader"
   ]
  },
  {
   "cell_type": "code",
   "execution_count": 9,
   "id": "bfcccb1f",
   "metadata": {},
   "outputs": [
    {
     "data": {
      "text/plain": [
       "array([[2, 2],\n",
       "       [2, 2]])"
      ]
     },
     "execution_count": 9,
     "metadata": {},
     "output_type": "execute_result"
    }
   ],
   "source": [
    "B+B"
   ]
  },
  {
   "cell_type": "code",
   "execution_count": 10,
   "id": "8933dbc4-434c-4705-8145-58c605158e4e",
   "metadata": {},
   "outputs": [
    {
     "data": {
      "text/plain": [
       "array([[3, 3],\n",
       "       [3, 3]])"
      ]
     },
     "execution_count": 10,
     "metadata": {},
     "output_type": "execute_result"
    }
   ],
   "source": [
    "B+B+B"
   ]
  },
  {
   "cell_type": "code",
   "execution_count": null,
   "id": "326fdaa1-a9a9-41bf-b1d3-4794e9d147dd",
   "metadata": {},
   "outputs": [],
   "source": []
  },
  {
   "cell_type": "code",
   "execution_count": null,
   "id": "eb4931c1-e997-4000-bb15-b56a59f76f82",
   "metadata": {},
   "outputs": [],
   "source": []
  }
 ],
 "metadata": {
  "kernelspec": {
   "display_name": "Python 3 (ipykernel)",
   "language": "python",
   "name": "python3"
  },
  "language_info": {
   "codemirror_mode": {
    "name": "ipython",
    "version": 3
   },
   "file_extension": ".py",
   "mimetype": "text/x-python",
   "name": "python",
   "nbconvert_exporter": "python",
   "pygments_lexer": "ipython3",
   "version": "3.9.7"
  }
 },
 "nbformat": 4,
 "nbformat_minor": 5
}
