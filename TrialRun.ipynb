{
 "cells": [
  {
   "cell_type": "markdown",
   "id": "c0c188f0-4474-4cd3-a531-d560325c2f34",
   "metadata": {},
   "source": [
    "BIRS Python/Jupyter Notebook notes\n"
   ]
  },
  {
   "cell_type": "markdown",
   "id": "dce61732-024e-4a21-a073-b0687b3da8d3",
   "metadata": {},
   "source": [
    "Adding some stuff to see if GitHub's updating"
   ]
  },
  {
   "cell_type": "markdown",
   "id": "e24b4c10-ee75-4ca4-a07e-8188bee8dd42",
   "metadata": {},
   "source": [
    "More changes"
   ]
  },
  {
   "cell_type": "code",
   "execution_count": 1,
   "id": "d8fc99b6-fbb9-4808-a8f9-c303199d5f4b",
   "metadata": {},
   "outputs": [],
   "source": [
    "import numpy as np\n",
    "import scipy.linalg as la"
   ]
  },
  {
   "cell_type": "code",
   "execution_count": 2,
   "id": "7ea9f4a2-44a6-4af4-b9c0-5d810d1658ab",
   "metadata": {},
   "outputs": [
    {
     "data": {
      "text/plain": [
       "array([[ 2., -1.,  0.,  0.,  0.],\n",
       "       [-1.,  2., -1.,  0.,  0.],\n",
       "       [ 0., -1.,  2., -1.,  0.],\n",
       "       [ 0.,  0., -1.,  2., -1.],\n",
       "       [ 0.,  0.,  0., -1.,  2.]])"
      ]
     },
     "execution_count": 2,
     "metadata": {},
     "output_type": "execute_result"
    }
   ],
   "source": [
    "N=5\n",
    "A = 2*np.eye(N) - np.diag(np.ones(N-1),1)-np.diag(np.ones(N-1),-1)\n",
    "A"
   ]
  },
  {
   "cell_type": "markdown",
   "id": "928f401c-df8c-4953-b824-569bec40e1f4",
   "metadata": {},
   "source": [
    "blah blah"
   ]
  },
  {
   "cell_type": "markdown",
   "id": "e43961df-2b7b-4600-8534-3f2388aa3936",
   "metadata": {},
   "source": [
    "more blah blah"
   ]
  },
  {
   "cell_type": "code",
   "execution_count": 4,
   "id": "bde6430b-24a2-40b2-8001-1d664bf1c455",
   "metadata": {},
   "outputs": [],
   "source": [
    "B = np.array([[1,1],[1,1]])"
   ]
  },
  {
   "cell_type": "code",
   "execution_count": 5,
   "id": "b5b5da6f-1819-41c1-a382-1d6a43bf37ca",
   "metadata": {},
   "outputs": [
    {
     "data": {
      "text/plain": [
       "array([[1, 1],\n",
       "       [1, 1]])"
      ]
     },
     "execution_count": 5,
     "metadata": {},
     "output_type": "execute_result"
    }
   ],
   "source": [
    "B"
   ]
  },
  {
   "cell_type": "code",
   "execution_count": 6,
   "id": "8f8d2e98-4af4-41c4-a453-dda2eec0cb69",
   "metadata": {},
   "outputs": [
    {
     "data": {
      "text/plain": [
       "array([[1, 1],\n",
       "       [1, 1]])"
      ]
     },
     "execution_count": 6,
     "metadata": {},
     "output_type": "execute_result"
    }
   ],
   "source": [
    "B*B"
   ]
  },
  {
   "cell_type": "markdown",
   "id": "ecb9589b-4413-4c32-a4fb-79f0c9a30ba9",
   "metadata": {},
   "source": [
    "Link for students to click:"
   ]
  },
  {
   "cell_type": "markdown",
   "id": "c2a3eff0-46b6-4aae-b134-152b36f3f9ba",
   "metadata": {},
   "source": [
    "https://yorku.syzygy.ca/jupyter/hub/user-redirect/git-pull?repo=https://github.com%2Fpimsmath%2Fpublic-notebooks&urlpath=tree%2Fpublic-notebooks%2Fpath%2Fto%2Ffile.ipynb&branch=master"
   ]
  }
 ],
 "metadata": {
  "kernelspec": {
   "display_name": "Python 3 (ipykernel)",
   "language": "python",
   "name": "python3"
  },
  "language_info": {
   "codemirror_mode": {
    "name": "ipython",
    "version": 3
   },
   "file_extension": ".py",
   "mimetype": "text/x-python",
   "name": "python",
   "nbconvert_exporter": "python",
   "pygments_lexer": "ipython3",
   "version": "3.9.7"
  }
 },
 "nbformat": 4,
 "nbformat_minor": 5
}
