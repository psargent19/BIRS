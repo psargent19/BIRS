{
 "cells": [
  {
   "cell_type": "markdown",
   "id": "c0c188f0-4474-4cd3-a531-d560325c2f34",
   "metadata": {},
   "source": [
    "BIRS Python/Jupyter Notebook notes\n"
   ]
  },
  {
   "cell_type": "markdown",
   "id": "dce61732-024e-4a21-a073-b0687b3da8d3",
   "metadata": {},
   "source": [
    "Adding some stuff to see if GitHub's updating"
   ]
  },
  {
   "cell_type": "markdown",
   "id": "e24b4c10-ee75-4ca4-a07e-8188bee8dd42",
   "metadata": {},
   "source": [
    "More changes"
   ]
  },
  {
   "cell_type": "code",
   "execution_count": null,
   "id": "d8fc99b6-fbb9-4808-a8f9-c303199d5f4b",
   "metadata": {},
   "outputs": [],
   "source": []
  }
 ],
 "metadata": {
  "kernelspec": {
   "display_name": "Python 3 (ipykernel)",
   "language": "python",
   "name": "python3"
  },
  "language_info": {
   "codemirror_mode": {
    "name": "ipython",
    "version": 3
   },
   "file_extension": ".py",
   "mimetype": "text/x-python",
   "name": "python",
   "nbconvert_exporter": "python",
   "pygments_lexer": "ipython3",
   "version": "3.9.7"
  }
 },
 "nbformat": 4,
 "nbformat_minor": 5
}
