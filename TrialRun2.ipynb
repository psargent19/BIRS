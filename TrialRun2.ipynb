{
 "cells": [
  {
   "cell_type": "markdown",
   "id": "144f5b92-cb34-490c-95d4-c0668231e384",
   "metadata": {},
   "source": [
    "Just another test run."
   ]
  },
  {
   "cell_type": "markdown",
   "id": "be47d4dc-c935-4044-b996-f06ea8fb397a",
   "metadata": {},
   "source": [
    "edits edits edits"
   ]
  },
  {
   "cell_type": "code",
   "execution_count": null,
   "id": "bfb44e13-25d8-40b8-a717-7d6fd02051da",
   "metadata": {},
   "outputs": [],
   "source": []
  }
 ],
 "metadata": {
  "kernelspec": {
   "display_name": "Python 3 (ipykernel)",
   "language": "python",
   "name": "python3"
  },
  "language_info": {
   "codemirror_mode": {
    "name": "ipython",
    "version": 3
   },
   "file_extension": ".py",
   "mimetype": "text/x-python",
   "name": "python",
   "nbconvert_exporter": "python",
   "pygments_lexer": "ipython3",
   "version": "3.9.7"
  }
 },
 "nbformat": 4,
 "nbformat_minor": 5
}
